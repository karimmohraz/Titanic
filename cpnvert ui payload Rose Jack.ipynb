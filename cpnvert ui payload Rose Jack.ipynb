{
  "nbformat": 4,
  "nbformat_minor": 0,
  "metadata": {
    "colab": {
      "name": "Untitled4.ipynb",
      "provenance": []
    },
    "kernelspec": {
      "name": "python3",
      "display_name": "Python 3"
    }
  },
  "cells": [
    {
      "cell_type": "code",
      "metadata": {
        "id": "jZa0ikZtGPN0",
        "colab_type": "code",
        "outputId": "0af55677-d450-4181-c079-21265549958d",
        "colab": {
          "base_uri": "https://localhost:8080/",
          "height": 114
        }
      },
      "source": [
        "import json\n",
        "import pandas as pd\n",
        "import numpy as np\n",
        "\n",
        "# text input\n",
        "payload_Rose = '{\"sex\":\"female\",\"embarked\":\"S\",\"class\":\"First\",\"who\":\"\",\"adult_male\":\"False\",\"deck\":null,\"embark_town\":\"Southhampton\",\"alone\":\"False\",\"pclass\":1,\"age\":20,\"sibsp\":0,\"parch\":0,\"fare\":1}'\n",
        "payload_Jack = '{\"sex\":\"male\",\"embarked\":\"S\",\"class\":\"Third\",\"who\":\"\",\"adult_male\":\"True\",\"deck\":null,\"embark_town\":\"Southhampton\",\"alone\":\"True\",\"pclass\":3,\"age\":20,\"sibsp\":0,\"parch\":0,\"fare\":1}'\n",
        "# convert to integer columns: pclass sex age sibsp fare embarked who adult_male alone\n",
        "data = json.loads(payload_Jack)\n",
        "print(list(data.values()))\n",
        "print(list(data.keys()))\n",
        "\n",
        "df = pd.DataFrame([list(data.values())], columns = list(data.keys()))\n",
        "df.head()\n",
        "\n",
        "df = df.replace('', np.nan)\n",
        "df['who'] = df['who'].fillna('man')\n",
        "df['age'] = df['age'].fillna(0)\n",
        "df['fare'] = df['fare'].fillna(0)\n",
        "df['embarked'] = df['embarked'].fillna('S')  # most common embarkation port\n",
        "df.head()"
      ],
      "execution_count": 40,
      "outputs": [
        {
          "output_type": "stream",
          "text": [
            "['male', 'S', 'Third', '', 'True', None, 'Southhampton', 'True', 3, 20, 0, 0, 1]\n",
            "['sex', 'embarked', 'class', 'who', 'adult_male', 'deck', 'embark_town', 'alone', 'pclass', 'age', 'sibsp', 'parch', 'fare']\n"
          ],
          "name": "stdout"
        },
        {
          "output_type": "execute_result",
          "data": {
            "text/html": [
              "<div>\n",
              "<style scoped>\n",
              "    .dataframe tbody tr th:only-of-type {\n",
              "        vertical-align: middle;\n",
              "    }\n",
              "\n",
              "    .dataframe tbody tr th {\n",
              "        vertical-align: top;\n",
              "    }\n",
              "\n",
              "    .dataframe thead th {\n",
              "        text-align: right;\n",
              "    }\n",
              "</style>\n",
              "<table border=\"1\" class=\"dataframe\">\n",
              "  <thead>\n",
              "    <tr style=\"text-align: right;\">\n",
              "      <th></th>\n",
              "      <th>sex</th>\n",
              "      <th>embarked</th>\n",
              "      <th>class</th>\n",
              "      <th>who</th>\n",
              "      <th>adult_male</th>\n",
              "      <th>deck</th>\n",
              "      <th>embark_town</th>\n",
              "      <th>alone</th>\n",
              "      <th>pclass</th>\n",
              "      <th>age</th>\n",
              "      <th>sibsp</th>\n",
              "      <th>parch</th>\n",
              "      <th>fare</th>\n",
              "    </tr>\n",
              "  </thead>\n",
              "  <tbody>\n",
              "    <tr>\n",
              "      <th>0</th>\n",
              "      <td>male</td>\n",
              "      <td>S</td>\n",
              "      <td>Third</td>\n",
              "      <td>man</td>\n",
              "      <td>True</td>\n",
              "      <td>None</td>\n",
              "      <td>Southhampton</td>\n",
              "      <td>True</td>\n",
              "      <td>3</td>\n",
              "      <td>20</td>\n",
              "      <td>0</td>\n",
              "      <td>0</td>\n",
              "      <td>1</td>\n",
              "    </tr>\n",
              "  </tbody>\n",
              "</table>\n",
              "</div>"
            ],
            "text/plain": [
              "    sex embarked  class  who adult_male  ... pclass age sibsp  parch  fare\n",
              "0  male        S  Third  man       True  ...      3  20     0      0     1\n",
              "\n",
              "[1 rows x 13 columns]"
            ]
          },
          "metadata": {
            "tags": []
          },
          "execution_count": 40
        }
      ]
    },
    {
      "cell_type": "code",
      "metadata": {
        "id": "_b_CtkSIHQU-",
        "colab_type": "code",
        "colab": {
          "base_uri": "https://localhost:8080/",
          "height": 51
        },
        "outputId": "83205fea-9d3d-4c5e-8cbc-a3cc656637ca"
      },
      "source": [
        "# remove unused columns \n",
        "df = df.drop(['class', 'deck', 'embark_town', 'parch'], axis=1)\n",
        "# convert non-numeric data\n",
        "genders = {\"male\": 0, \"female\": 1}\n",
        "df['sex'] = df['sex'].map(genders)\n",
        "\n",
        "ports = {\"S\": 0, \"C\": 1, \"Q\": 2}\n",
        "df['embarked'] = df['embarked'].map(ports)\n",
        "\n",
        "who = {\"man\": 1, \"woman\": 2, \"child\": 0}\n",
        "df['who'] = df['who'].map(who)\n",
        "\n",
        "boool = {'True': 1, 'False': 0}\n",
        "df['alone'] = df['alone'].map(boool)\n",
        "df['adult_male'] = df['adult_male'].map(boool)\n",
        "\n",
        "df['age'] = df['age'].astype(int)\n",
        "df.loc[ df['age'] <= 11, 'age'] = 0\n",
        "df.loc[(df['age'] > 11) & (df['age'] <= 18), 'age'] = 1\n",
        "df.loc[(df['age'] > 18) & (df['age'] <= 22), 'age'] = 2\n",
        "df.loc[(df['age'] > 22) & (df['age'] <= 27), 'age'] = 3\n",
        "df.loc[(df['age'] > 27) & (df['age'] <= 33), 'age'] = 4\n",
        "df.loc[(df['age'] > 33) & (df['age'] <= 40), 'age'] = 5\n",
        "df.loc[(df['age'] > 40) & (df['age'] <= 66), 'age'] = 6\n",
        "df.loc[ df['age'] > 66, 'age'] = 6\n",
        "\n",
        "df['fare'] = df['fare'].astype(int)\n",
        "df.loc[ df['fare'] <= 7.91, 'fare'] = 0\n",
        "df.loc[(df['fare'] > 7.91) & (df['fare'] <= 14.454), 'fare'] = 1\n",
        "df.loc[(df['fare'] > 14.454) & (df['fare'] <= 31), 'fare']   = 2\n",
        "df.loc[(df['fare'] > 31) & (df['fare'] <= 99), 'fare']   = 3\n",
        "df.loc[(df['fare'] > 99) & (df['fare'] <= 250), 'fare']   = 4\n",
        "df.loc[ df['fare'] > 250, 'fare'] = 5\n",
        "\n",
        "# reorder columns to match NN input\n",
        "df = df[['pclass', 'sex', 'age', 'sibsp', 'fare', 'embarked', 'who', 'adult_male', 'alone']]\n",
        "\n",
        "print(df.head())"
      ],
      "execution_count": 37,
      "outputs": [
        {
          "output_type": "stream",
          "text": [
            "   pclass  sex  age  sibsp  fare  embarked  who  adult_male  alone\n",
            "0       1    1    2      0     0         0    1           0      0\n"
          ],
          "name": "stdout"
        }
      ]
    },
    {
      "cell_type": "code",
      "metadata": {
        "id": "5TPKq-HWGrC0",
        "colab_type": "code",
        "colab": {}
      },
      "source": [
        ""
      ],
      "execution_count": 0,
      "outputs": []
    }
  ]
}