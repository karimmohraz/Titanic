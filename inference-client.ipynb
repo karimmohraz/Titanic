{
    "cells": [
        {
            "cell_type": "code",
            "execution_count": 1,
            "metadata": {},
            "outputs": [],
            "source": [
                "import csv\n",
                "import numpy as np\n",
                "import pandas as pd\n",
                "import random\n",
                "import json\n",
                "import requests\n",
                "from sklearn.preprocessing import StandardScaler"
            ]
        },
        {
            "cell_type": "code",
            "execution_count": 19,
            "metadata": {},
            "outputs": [],
            "source": [
                "## set credentials and endpoint\n",
                "username = \"default\\\\admin\"\n",
                "password = \"Test123!\"\n",
                "url = \"https://vsystem.ingress.dh-rzsmhj7iwkz.di-dev2.shoot.canary.k8s-hana.ondemand.com/app/pipeline-modeler/openapi/service/f55cfd17-573a-4161-b21d-3f47ec88e93e/\"\n",
                "path_predict = \"v1/predict/\"\n",
                "path_predict_classes = \"v1/predict_classes/\"\n",
                "\n",
                "def predict(test, predict_classes=False):\n",
                "    global username, password, url, numberClassifications\n",
                "    # call the REST api to predict\n",
                "    headers = {\n",
                "                'Content-Type': 'application/json',\n",
                "                'X-Requested-With': 'XMLHttpRequest'\n",
                "              }\n",
                "    payload = json.loads('{\"data\": ' + str(test[0:random.randrange(1,10,2)].tolist()) + '}')\n",
                "    print(payload)\n",
                "    url2 = \"\"\n",
                "    if predict_classes:\n",
                "        url2 = url + path_predict_classes\n",
                "    else:\n",
                "        url2 = url + path_predict\n",
                "    resp = requests.post(url2, auth=(username, password), headers=headers, json=payload)\n",
                "\n",
                "    return resp"
            ]
        },
        {
            "cell_type": "code",
            "execution_count": 23,
            "metadata": {},
            "outputs": [
                {
                    "data": {
                        "text/plain": [
                            "'[[3, 0, 2, 0, 0, 1, 1, 1], [2, 0, 0, 1, 1, 0, 0, 0], [3, 1, 0, 3, 2, 0, 0, 0], [3, 1, 2, 0, 1, 0, 2, 0], [3, 1, 4, 0, 1, 0, 2, 0]]'"
                        ]
                    },
                    "execution_count": 23,
                    "metadata": {},
                    "output_type": "execute_result"
                }
            ],
            "source": [
                "test_df = pd.read_csv('titanic_test.csv')\n",
                "X_test = test_df.drop(\"alone\", axis = 1).to_numpy()\n",
                "str(X_test[0:random.randrange(1,10,2)].tolist())"
            ]
        },
        {
            "cell_type": "code",
            "execution_count": 21,
            "metadata": {},
            "outputs": [
                {
                    "data": {
                        "text/plain": [
                            "array([[ 0.88673266, -0.73343782, -0.36543665, -0.51463306, -1.24754424,\n",
                            "         1.01703274, -0.36951512,  0.7922987 ],\n",
                            "       [-0.31900748, -0.73343782, -1.26590485,  0.39618577, -0.44811215,\n",
                            "        -0.53638028, -2.08622079, -1.26215025],\n",
                            "       [ 0.88673266,  1.3634421 , -1.26590485,  2.21782344,  0.35131993,\n",
                            "        -0.53638028, -2.08622079, -1.26215025]])"
                        ]
                    },
                    "execution_count": 21,
                    "metadata": {},
                    "output_type": "execute_result"
                }
            ],
            "source": [
                "payload = '{\"data\": ' + str(X_test[0:3].tolist()) + '}'\n",
                "feed = json.loads(payload)\n",
                "input_data = np.array(feed['data'])\n",
                "scaler = StandardScaler()\n",
                "scaler.fit(X_test)\n",
                "X_test = scaler.transform(input_data)\n",
                "X_test"
            ]
        },
        {
            "cell_type": "code",
            "execution_count": 36,
            "metadata": {},
            "outputs": [
                {
                    "name": "stdout",
                    "output_type": "stream",
                    "text": [
                        "{'data': [[3, 0, 2, 0, 0, 1, 1, 1], [2, 0, 0, 1, 1, 0, 0, 0], [3, 1, 0, 3, 2, 0, 0, 0], [3, 1, 2, 0, 1, 0, 2, 0], [3, 1, 4, 0, 1, 0, 2, 0], [1, 1, 6, 1, 3, 1, 2, 0], [3, 0, 6, 0, 1, 0, 1, 1], [2, 0, 6, 0, 1, 0, 1, 1], [3, 1, 4, 1, 2, 2, 2, 0]]}\n",
                        "{\"Results\": [\"0\", \"1\", \"0\", \"1\", \"0\", \"1\", \"0\", \"0\", \"1\"]}\n",
                        "0\n",
                        "1\n",
                        "0\n",
                        "1\n",
                        "0\n",
                        "1\n",
                        "0\n",
                        "0\n",
                        "1\n"
                    ]
                }
            ],
            "source": [
                "response = predict(X_test, True)\n",
                "print(response.text)\n",
                "for prediction in json.loads(response.text)['Results']:\n",
                "    print(prediction)"
            ]
        },
        {
            "cell_type": "code",
            "execution_count": null,
            "metadata": {},
            "outputs": [],
            "source": []
        }
    ],
    "metadata": {
        "createdAt": "2020-01-05T16:11:05Z",
        "createdBy": "admin",
        "description": "",
        "kernelspec": {
            "display_name": "Python 3",
            "language": "python",
            "name": "python3"
        },
        "language_info": {
            "codemirror_mode": {
                "name": "ipython",
                "version": 3
            },
            "file_extension": ".py",
            "mimetype": "text/x-python",
            "name": "python",
            "nbconvert_exporter": "python",
            "pygments_lexer": "ipython3",
            "version": "3.7.3"
        },
        "modifiedAt": "2020-01-06T08:08:28Z",
        "modifiedBy": "admin",
        "name": "inference-client.ipynb",
        "scenarioId": "0467899d-707f-4c8c-898b-8eb74850c0dc"
    },
    "nbformat": 4,
    "nbformat_minor": 4
}