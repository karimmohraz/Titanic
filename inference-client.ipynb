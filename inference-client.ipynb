{
 "cells": [
  {
   "cell_type": "code",
   "execution_count": 1,
   "metadata": {},
   "outputs": [],
   "source": [
    "import csv\n",
    "import numpy as np\n",
    "import pandas as pd\n",
    "import random\n",
    "import json\n",
    "import requests\n",
    "from sklearn.preprocessing import StandardScaler"
   ]
  },
  {
   "cell_type": "code",
   "execution_count": 14,
   "metadata": {},
   "outputs": [],
   "source": [
    "## set credentials and endpoint\n",
    "username = \"default\\\\admin\"\n",
    "password = \"Test123!\"\n",
    "url = \"https://vsystem.ingress.dh-rzsmhj7iwkz.di-dev2.shoot.canary.k8s-hana.ondemand.com/app/pipeline-modeler/openapi/service/1818e767-f6fe-4215-bdfb-b3679ac62bf4/\"\n",
    "path_predict_proba = \"v1/predict_proba/\"\n",
    "path_predict_classes = \"v1/predict_classes/\"\n",
    "\n",
    "def predict(test, predict_classes=True):\n",
    "    global username, password, url, numberClassifications\n",
    "    # call the REST api to predict\n",
    "    headers = {\n",
    "                'Content-Type': 'application/json',\n",
    "                'X-Requested-With': 'XMLHttpRequest'\n",
    "              }\n",
    "    payload = json.loads('{\"data\": ' + str(test[0:random.randrange(1,10,2)].tolist()) + '}')\n",
    "    print(payload)\n",
    "    url2 = \"\"\n",
    "    if predict_classes:\n",
    "        url2 = url + path_predict_classes\n",
    "    else:\n",
    "        url2 = url + path_predict_proba\n",
    "    resp = requests.post(url2, auth=(username, password), headers=headers, json=payload)\n",
    "\n",
    "    return resp"
   ]
  },
  {
   "cell_type": "code",
   "execution_count": 6,
   "metadata": {},
   "outputs": [
    {
     "data": {
      "text/plain": [
       "'[[3, 0, 2, 0, 0, 1, 1, 1]]'"
      ]
     },
     "execution_count": 6,
     "metadata": {},
     "output_type": "execute_result"
    }
   ],
   "source": [
    "test_df = pd.read_csv('titanic_test.csv')\n",
    "X_test = test_df.drop(\"alone\", axis = 1).to_numpy()\n",
    "str(X_test[0:random.randrange(1,10,2)].tolist())"
   ]
  },
  {
   "cell_type": "code",
   "execution_count": 7,
   "metadata": {},
   "outputs": [
    {
     "data": {
      "text/plain": [
       "array([[3, 0, 2, ..., 1, 1, 1],\n",
       "       [2, 0, 0, ..., 0, 0, 0],\n",
       "       [3, 1, 0, ..., 0, 0, 0],\n",
       "       ...,\n",
       "       [3, 0, 2, ..., 0, 1, 1],\n",
       "       [1, 1, 1, ..., 1, 2, 0],\n",
       "       [3, 0, 0, ..., 2, 1, 1]])"
      ]
     },
     "execution_count": 7,
     "metadata": {},
     "output_type": "execute_result"
    }
   ],
   "source": [
    "payload = '{\"data\": ' + str(X_test[0:3].tolist()) + '}'\n",
    "feed = json.loads(payload)\n",
    "input_data = np.array(feed['data'])\n",
    "scaler = StandardScaler()\n",
    "# scaler.fit(X_test)\n",
    "# X_test = scaler.transform(input_data)\n",
    "X_test"
   ]
  },
  {
   "cell_type": "code",
   "execution_count": 15,
   "metadata": {},
   "outputs": [
    {
     "name": "stdout",
     "output_type": "stream",
     "text": [
      "{'data': [[3, 0, 2, 0, 0, 1, 1, 1], [2, 0, 0, 1, 1, 0, 0, 0], [3, 1, 0, 3, 2, 0, 0, 0], [3, 1, 2, 0, 1, 0, 2, 0], [3, 1, 4, 0, 1, 0, 2, 0], [1, 1, 6, 1, 3, 1, 2, 0], [3, 0, 6, 0, 1, 0, 1, 1]]}\n",
      "{\"Results\": [[0.8886315479050001, 0.11136845209499993], [0.008316723808670656, 0.9916832761913293], [0.795118419314601, 0.20488158068539902], [0.4066056965370233, 0.5933943034629767], [0.6115256865343618, 0.3884743134656382], [0.009357639604845813, 0.9906423603951542], [0.9541847552087508, 0.045815244791249266]]}\n",
      "[0.8886315479050001, 0.11136845209499993]\n",
      "[0.008316723808670656, 0.9916832761913293]\n",
      "[0.795118419314601, 0.20488158068539902]\n",
      "[0.4066056965370233, 0.5933943034629767]\n",
      "[0.6115256865343618, 0.3884743134656382]\n",
      "[0.009357639604845813, 0.9906423603951542]\n",
      "[0.9541847552087508, 0.045815244791249266]\n"
     ]
    }
   ],
   "source": [
    "response = predict(X_test, False)\n",
    "print(response.text)\n",
    "for prediction in json.loads(response.text)['Results']:\n",
    "    print(prediction)"
   ]
  },
  {
   "cell_type": "code",
   "execution_count": null,
   "metadata": {},
   "outputs": [],
   "source": []
  }
 ],
 "metadata": {
  "createdAt": "2020-01-05T16:11:05Z",
  "createdBy": "admin",
  "description": "",
  "kernelspec": {
   "display_name": "Python 3",
   "language": "python",
   "name": "python3"
  },
  "language_info": {
   "codemirror_mode": {
    "name": "ipython",
    "version": 3
   },
   "file_extension": ".py",
   "mimetype": "text/x-python",
   "name": "python",
   "nbconvert_exporter": "python",
   "pygments_lexer": "ipython3",
   "version": "3.7.3"
  },
  "modifiedAt": "2020-01-06T08:08:28Z",
  "modifiedBy": "admin",
  "name": "inference-client.ipynb",
  "scenarioId": "0467899d-707f-4c8c-898b-8eb74850c0dc"
 },
 "nbformat": 4,
 "nbformat_minor": 4
}
