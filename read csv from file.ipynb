{
    "cells": [
        {
            "cell_type": "code",
            "execution_count": 43,
            "metadata": {},
            "outputs": [],
            "source": [
                "import pandas as pd\n",
                "from io import StringIO"
            ]
        },
        {
            "cell_type": "code",
            "execution_count": 49,
            "metadata": {},
            "outputs": [],
            "source": [
                "train_data = \"\"\"pclass,sex,age,sibsp,fare,embarked,who,adult_male,alive,alone\n",
                "3,0,4,0,1,0,1,1,0,1\n",
                "3,0,4,0,0,0,1,1,0,1\n",
                "3,0,2,0,0,0,1,1,0,1\n",
                "3,0,4,0,0,0,1,1,0,1\n",
                "3,0,4,0,0,0,1,1,0,1\n",
                "\"\"\""
            ]
        },
        {
            "cell_type": "code",
            "execution_count": 45,
            "metadata": {},
            "outputs": [
                {
                    "name": "stdout",
                    "output_type": "stream",
                    "text": [
                        "[['3', '0', '4', '0', '1', '0', '1', '1', '0', '1'], ['3', '0', '4', '0', '0', '0', '1', '1', '0', '1'], ['3', '0', '2', '0', '0', '0', '1', '1', '0', '1']]\n"
                    ]
                }
            ],
            "source": [
                "data = [x.split(',') for x in train_data.split('\\n')[1:len(train_data.split('\\n'))-1]]\n",
                "header = train_data.split('\\n')[0].split(',')\n",
                "# print([x for x in train_data.split('\\n')[0].split(',')])\n",
                "print(data)\n",
                "[['3', '0', '4', '0', '1', '0', '1', '1', '0', '1'], ['3', '0', '4', '0', '0', '0', '1', '1', '0', '1'], ['3', '0', '2', '0', '0', '0', '1',\n",
                "'1', '0', '1']]"
            ]
        },
        {
            "cell_type": "code",
            "execution_count": 46,
            "metadata": {},
            "outputs": [
                {
                    "data": {
                        "text/html": [
                            "<div>\n",
                            "<style scoped>\n",
                            "    .dataframe tbody tr th:only-of-type {\n",
                            "        vertical-align: middle;\n",
                            "    }\n",
                            "\n",
                            "    .dataframe tbody tr th {\n",
                            "        vertical-align: top;\n",
                            "    }\n",
                            "\n",
                            "    .dataframe thead th {\n",
                            "        text-align: right;\n",
                            "    }\n",
                            "</style>\n",
                            "<table border=\"1\" class=\"dataframe\">\n",
                            "  <thead>\n",
                            "    <tr style=\"text-align: right;\">\n",
                            "      <th></th>\n",
                            "      <th>pclass</th>\n",
                            "      <th>sex</th>\n",
                            "      <th>age</th>\n",
                            "      <th>sibsp</th>\n",
                            "      <th>fare</th>\n",
                            "      <th>embarked</th>\n",
                            "      <th>who</th>\n",
                            "      <th>adult_male</th>\n",
                            "      <th>alive</th>\n",
                            "      <th>alone</th>\n",
                            "    </tr>\n",
                            "  </thead>\n",
                            "  <tbody>\n",
                            "    <tr>\n",
                            "      <th>0</th>\n",
                            "      <td>3</td>\n",
                            "      <td>0</td>\n",
                            "      <td>4</td>\n",
                            "      <td>0</td>\n",
                            "      <td>1</td>\n",
                            "      <td>0</td>\n",
                            "      <td>1</td>\n",
                            "      <td>1</td>\n",
                            "      <td>0</td>\n",
                            "      <td>1</td>\n",
                            "    </tr>\n",
                            "    <tr>\n",
                            "      <th>1</th>\n",
                            "      <td>3</td>\n",
                            "      <td>0</td>\n",
                            "      <td>4</td>\n",
                            "      <td>0</td>\n",
                            "      <td>0</td>\n",
                            "      <td>0</td>\n",
                            "      <td>1</td>\n",
                            "      <td>1</td>\n",
                            "      <td>0</td>\n",
                            "      <td>1</td>\n",
                            "    </tr>\n",
                            "    <tr>\n",
                            "      <th>2</th>\n",
                            "      <td>3</td>\n",
                            "      <td>0</td>\n",
                            "      <td>2</td>\n",
                            "      <td>0</td>\n",
                            "      <td>0</td>\n",
                            "      <td>0</td>\n",
                            "      <td>1</td>\n",
                            "      <td>1</td>\n",
                            "      <td>0</td>\n",
                            "      <td>1</td>\n",
                            "    </tr>\n",
                            "  </tbody>\n",
                            "</table>\n",
                            "</div>"
                        ],
                        "text/plain": [
                            "  pclass sex age sibsp fare embarked who adult_male alive alone\n",
                            "0      3   0   4     0    1        0   1          1     0     1\n",
                            "1      3   0   4     0    0        0   1          1     0     1\n",
                            "2      3   0   2     0    0        0   1          1     0     1"
                        ]
                    },
                    "execution_count": 46,
                    "metadata": {},
                    "output_type": "execute_result"
                }
            ],
            "source": [
                "train_df = pd.DataFrame(data, columns=header)\n",
                "train_df.head()"
            ]
        },
        {
            "cell_type": "code",
            "execution_count": null,
            "metadata": {},
            "outputs": [],
            "source": [
                "# api.logger.info(train_data.split('\\n')[1:4])\n",
                "train_df = pd.DataFrame([x.split(',') for x in train_data.split('\\n')[1:4]], columns=[x for x in train_data.split('\\n')[0].split(',')])\n",
                "# trainstring = StringIO(train_data)\n",
                "# train_df = pd.read_table(trainstring, sep=\",\")\n",
                "# train_df = train_df.dropna(how='any')  # remove any NAN e.g. last empty line\n",
                "# train_df.drop(train_df.tail(1).index,inplace=True) # drop last row\n",
                "api.logger.info(train_df.tail())"
            ]
        },
        {
            "cell_type": "code",
            "execution_count": 51,
            "metadata": {},
            "outputs": [
                {
                    "data": {
                        "text/html": [
                            "<div>\n",
                            "<style scoped>\n",
                            "    .dataframe tbody tr th:only-of-type {\n",
                            "        vertical-align: middle;\n",
                            "    }\n",
                            "\n",
                            "    .dataframe tbody tr th {\n",
                            "        vertical-align: top;\n",
                            "    }\n",
                            "\n",
                            "    .dataframe thead th {\n",
                            "        text-align: right;\n",
                            "    }\n",
                            "</style>\n",
                            "<table border=\"1\" class=\"dataframe\">\n",
                            "  <thead>\n",
                            "    <tr style=\"text-align: right;\">\n",
                            "      <th></th>\n",
                            "      <th>pclass</th>\n",
                            "      <th>sex</th>\n",
                            "      <th>age</th>\n",
                            "      <th>sibsp</th>\n",
                            "      <th>fare</th>\n",
                            "      <th>embarked</th>\n",
                            "      <th>who</th>\n",
                            "      <th>adult_male</th>\n",
                            "      <th>alive</th>\n",
                            "      <th>alone</th>\n",
                            "    </tr>\n",
                            "  </thead>\n",
                            "  <tbody>\n",
                            "    <tr>\n",
                            "      <th>0</th>\n",
                            "      <td>3</td>\n",
                            "      <td>0</td>\n",
                            "      <td>4</td>\n",
                            "      <td>0</td>\n",
                            "      <td>1</td>\n",
                            "      <td>0</td>\n",
                            "      <td>1</td>\n",
                            "      <td>1</td>\n",
                            "      <td>0</td>\n",
                            "      <td>1</td>\n",
                            "    </tr>\n",
                            "  </tbody>\n",
                            "</table>\n",
                            "</div>"
                        ],
                        "text/plain": [
                            "  pclass sex age sibsp fare embarked who adult_male alive alone\n",
                            "0      3   0   4     0    1        0   1          1     0     1"
                        ]
                    },
                    "execution_count": 51,
                    "metadata": {},
                    "output_type": "execute_result"
                }
            ],
            "source": [
                "rows = train_data.split('\\n')\n",
                "l = len(rows) -1  # remove empty line at end of file which results in NAN \n",
                "data = [x.split(',') for x in rows[1:2]]\n",
                "header = rows[0].split(',')\n",
                "train_df = pd.DataFrame(data, columns=header)\n",
                "train_df.head()"
            ]
        },
        {
            "cell_type": "code",
            "execution_count": null,
            "metadata": {},
            "outputs": [],
            "source": []
        }
    ],
    "metadata": {
        "createdAt": "2020-01-05T08:36:38Z",
        "createdBy": "admin",
        "description": "",
        "kernelspec": {
            "display_name": "Python 3",
            "language": "python",
            "name": "python3"
        },
        "language_info": {
            "codemirror_mode": {
                "name": "ipython",
                "version": 3
            },
            "file_extension": ".py",
            "mimetype": "text/x-python",
            "name": "python",
            "nbconvert_exporter": "python",
            "pygments_lexer": "ipython3",
            "version": "3.7.3"
        },
        "modifiedAt": "2020-01-05T13:02:43Z",
        "modifiedBy": "admin",
        "name": "read_csv_from_file.ipynb",
        "scenarioId": "0467899d-707f-4c8c-898b-8eb74850c0dc"
    },
    "nbformat": 4,
    "nbformat_minor": 4
}